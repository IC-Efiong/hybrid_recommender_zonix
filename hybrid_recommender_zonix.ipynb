{
 "cells": [
  {
   "cell_type": "code",
   "execution_count": 1,
   "id": "903f1468-ffd9-492e-bbb7-a9a285f9f9ca",
   "metadata": {},
   "outputs": [],
   "source": [
    "import pandas as pd\n",
    "import numpy as np\n",
    "import random\n",
    "from faker import Faker"
   ]
  },
  {
   "cell_type": "code",
   "execution_count": 2,
   "id": "f9aad833-e523-4d2d-a4c5-9b26617cd4ea",
   "metadata": {},
   "outputs": [],
   "source": [
    "fake = Faker()\n",
    "\n",
    "#Parameters\n",
    "NUM_USERS = 1587\n",
    "NUM_PRODUCTS = 27\n",
    "MAX_INTERACTIONS = 10159 #total interactions to simulate"
   ]
  },
  {
   "cell_type": "code",
   "execution_count": 3,
   "id": "ec97336e-dc87-4c64-b64d-eccf1a961f4d",
   "metadata": {},
   "outputs": [],
   "source": [
    "# generate users\n",
    "def generate_user(n):\n",
    "    return pd.DataFrame({\n",
    "        'user_id': range(1, n + 1),\n",
    "        'name': [fake.name() for _ in range(n)],\n",
    "        'gender': [random.choice(['Male', 'Female']) for _ in range(n)],\n",
    "        'age': np.random.randint(18, 65, size=n),\n",
    "        'location': [fake.city() for _ in range(n)]\n",
    "    })"
   ]
  },
  {
   "cell_type": "code",
   "execution_count": 4,
   "id": "b6d33738-79ef-4df5-be73-7f8010d8d6c3",
   "metadata": {},
   "outputs": [],
   "source": [
    "# generate products\n",
    "def generate_products(n):\n",
    "    categories = ['Electronic', 'Fashion', 'Home', 'Beauty', 'Sports', 'Books']\n",
    "    return pd.DataFrame({\n",
    "        'product_id': range(1, n + 1),\n",
    "        'product_name': [fake.word().capitalize() + \" \" + fake.word().capitalize() for _ in range(n)],\n",
    "        'category': [random.choice(categories) for _ in range(n)],\n",
    "        'price': np.round(random.uniform(5, 3000),2),\n",
    "        'description': [fake.sentence() for _ in range(n)],\n",
    "        'premium': np.random.choice([0,1], size=n, p=[0.9, 0.1]) #10% on premium products\n",
    "    })"
   ]
  },
  {
   "cell_type": "code",
   "execution_count": 5,
   "id": "1489991f-cc0a-496f-88b4-f893aa7fe9ca",
   "metadata": {},
   "outputs": [],
   "source": [
    "# generate user interaction\n",
    "def generate_interactions(n, users, products):\n",
    "    interactions = []\n",
    "    actions = ['view', 'like', 'share', 'comment', 'purchase']\n",
    "    user_ids = users['user_id'].values.tolist()\n",
    "    product_ids = products['product_id'].values.tolist()\n",
    "    for _ in range(n):\n",
    "        user = random.choice(user_ids) if user_ids else None\n",
    "        product = random.choice(product_ids) if product_ids else None\n",
    "        if user is not None and product is not None:\n",
    "            action = random.choices(actions, weights=[0.5, 0.2, 0.15, 0.1, 0.05])[0]\n",
    "            interactions.append((user, product, action))\n",
    "\n",
    "    return pd.DataFrame(interactions, columns=['user_id', 'product_id', 'action'])"
   ]
  },
  {
   "cell_type": "code",
   "execution_count": 6,
   "id": "44d23333-5581-4e3c-b146-3364ba393ee7",
   "metadata": {},
   "outputs": [],
   "source": [
    "#Generate Data\n",
    "users_df = generate_user(NUM_USERS)\n",
    "products_df = generate_products(NUM_PRODUCTS)\n",
    "interactions_df = generate_interactions(MAX_INTERACTIONS, users_df, products_df)"
   ]
  },
  {
   "cell_type": "code",
   "execution_count": 7,
   "id": "695f3d7e-fc42-4af8-bc39-f8ff374891da",
   "metadata": {},
   "outputs": [],
   "source": [
    "df_u = users_df.copy()\n",
    "df_p = products_df.copy()\n",
    "df_i = interactions_df.copy()"
   ]
  },
  {
   "cell_type": "code",
   "execution_count": 8,
   "id": "b4561b4e-467b-4e4d-b985-eaa6fa452fad",
   "metadata": {},
   "outputs": [
    {
     "data": {
      "text/html": [
       "<div>\n",
       "<style scoped>\n",
       "    .dataframe tbody tr th:only-of-type {\n",
       "        vertical-align: middle;\n",
       "    }\n",
       "\n",
       "    .dataframe tbody tr th {\n",
       "        vertical-align: top;\n",
       "    }\n",
       "\n",
       "    .dataframe thead th {\n",
       "        text-align: right;\n",
       "    }\n",
       "</style>\n",
       "<table border=\"1\" class=\"dataframe\">\n",
       "  <thead>\n",
       "    <tr style=\"text-align: right;\">\n",
       "      <th></th>\n",
       "      <th>product_id</th>\n",
       "      <th>product_name</th>\n",
       "      <th>category</th>\n",
       "      <th>price</th>\n",
       "      <th>description</th>\n",
       "      <th>premium</th>\n",
       "    </tr>\n",
       "  </thead>\n",
       "  <tbody>\n",
       "    <tr>\n",
       "      <th>0</th>\n",
       "      <td>1</td>\n",
       "      <td>Us Marriage</td>\n",
       "      <td>Beauty</td>\n",
       "      <td>516.9</td>\n",
       "      <td>Bill stop Congress difference.</td>\n",
       "      <td>0</td>\n",
       "    </tr>\n",
       "    <tr>\n",
       "      <th>1</th>\n",
       "      <td>2</td>\n",
       "      <td>Cost Month</td>\n",
       "      <td>Books</td>\n",
       "      <td>516.9</td>\n",
       "      <td>Strategy site really industry.</td>\n",
       "      <td>0</td>\n",
       "    </tr>\n",
       "    <tr>\n",
       "      <th>2</th>\n",
       "      <td>3</td>\n",
       "      <td>Other These</td>\n",
       "      <td>Fashion</td>\n",
       "      <td>516.9</td>\n",
       "      <td>Office middle apply deep prove.</td>\n",
       "      <td>0</td>\n",
       "    </tr>\n",
       "    <tr>\n",
       "      <th>3</th>\n",
       "      <td>4</td>\n",
       "      <td>Fear Better</td>\n",
       "      <td>Beauty</td>\n",
       "      <td>516.9</td>\n",
       "      <td>Agent land toward easy.</td>\n",
       "      <td>0</td>\n",
       "    </tr>\n",
       "    <tr>\n",
       "      <th>4</th>\n",
       "      <td>5</td>\n",
       "      <td>Show Force</td>\n",
       "      <td>Sports</td>\n",
       "      <td>516.9</td>\n",
       "      <td>Whole cup edge front few.</td>\n",
       "      <td>0</td>\n",
       "    </tr>\n",
       "  </tbody>\n",
       "</table>\n",
       "</div>"
      ],
      "text/plain": [
       "   product_id product_name category  price                      description  \\\n",
       "0           1  Us Marriage   Beauty  516.9   Bill stop Congress difference.   \n",
       "1           2   Cost Month    Books  516.9   Strategy site really industry.   \n",
       "2           3  Other These  Fashion  516.9  Office middle apply deep prove.   \n",
       "3           4  Fear Better   Beauty  516.9          Agent land toward easy.   \n",
       "4           5   Show Force   Sports  516.9        Whole cup edge front few.   \n",
       "\n",
       "   premium  \n",
       "0        0  \n",
       "1        0  \n",
       "2        0  \n",
       "3        0  \n",
       "4        0  "
      ]
     },
     "execution_count": 8,
     "metadata": {},
     "output_type": "execute_result"
    }
   ],
   "source": [
    "# Display Samples\n",
    "#df_u.head()\n",
    "df_p.head()\n",
    "#df_i.head()"
   ]
  },
  {
   "cell_type": "code",
   "execution_count": 9,
   "id": "dfcacaec-119e-4822-a7f5-801c3715e338",
   "metadata": {},
   "outputs": [],
   "source": [
    "# Data Preprocessing\n",
    "from sklearn.preprocessing import LabelEncoder, MinMaxScaler"
   ]
  },
  {
   "cell_type": "code",
   "execution_count": 10,
   "id": "c8751f29-aea1-421e-80ba-ceca10638df7",
   "metadata": {},
   "outputs": [],
   "source": [
    "df_u#Encoding categorical variables\n",
    "encoder = LabelEncoder()\n",
    "df_u['gender'] = encoder.fit_transform(df_u['gender'])\n",
    "df_u['location'] = encoder.fit_transform(df_u['location'])\n",
    "df_p['category'] = encoder.fit_transform(df_p['category'])"
   ]
  },
  {
   "cell_type": "code",
   "execution_count": 11,
   "id": "b6fdd436-acf7-4e4d-a9d0-42abedc6e5d4",
   "metadata": {},
   "outputs": [],
   "source": [
    "df_p#Normalize Price\n",
    "scaler = MinMaxScaler()\n",
    "df_p['price'] = scaler.fit_transform(df_p[['price']])"
   ]
  },
  {
   "cell_type": "code",
   "execution_count": 12,
   "id": "00edc1a1-98f6-4ca8-8952-e3495d71993a",
   "metadata": {},
   "outputs": [],
   "source": [
    "# One-Hot Encoding for Actions in Interactions\n",
    "action_dummies = pd.get_dummies(df_i['action'])\n",
    "df_i = pd.concat([df_i.drop('action', axis=1), action_dummies], axis=1)"
   ]
  },
  {
   "cell_type": "code",
   "execution_count": 13,
   "id": "8a6c1795-39ee-49c5-b030-bc1c81fc9048",
   "metadata": {},
   "outputs": [],
   "source": [
    "# Aggregate User-Product Interactions\n",
    "df_in = df_i.groupby(['user_id', 'product_id']).sum().reset_index()"
   ]
  },
  {
   "cell_type": "code",
   "execution_count": 46,
   "id": "97793f6c-f95c-4147-bb3b-02f7027fe800",
   "metadata": {},
   "outputs": [
    {
     "data": {
      "text/html": [
       "<div>\n",
       "<style scoped>\n",
       "    .dataframe tbody tr th:only-of-type {\n",
       "        vertical-align: middle;\n",
       "    }\n",
       "\n",
       "    .dataframe tbody tr th {\n",
       "        vertical-align: top;\n",
       "    }\n",
       "\n",
       "    .dataframe thead th {\n",
       "        text-align: right;\n",
       "    }\n",
       "</style>\n",
       "<table border=\"1\" class=\"dataframe\">\n",
       "  <thead>\n",
       "    <tr style=\"text-align: right;\">\n",
       "      <th></th>\n",
       "      <th>user_id</th>\n",
       "      <th>product_id</th>\n",
       "      <th>comment</th>\n",
       "      <th>like</th>\n",
       "      <th>purchase</th>\n",
       "      <th>share</th>\n",
       "      <th>view</th>\n",
       "    </tr>\n",
       "  </thead>\n",
       "  <tbody>\n",
       "    <tr>\n",
       "      <th>9099</th>\n",
       "      <td>1586</td>\n",
       "      <td>26</td>\n",
       "      <td>0</td>\n",
       "      <td>0</td>\n",
       "      <td>1</td>\n",
       "      <td>0</td>\n",
       "      <td>1</td>\n",
       "    </tr>\n",
       "    <tr>\n",
       "      <th>9100</th>\n",
       "      <td>1587</td>\n",
       "      <td>4</td>\n",
       "      <td>0</td>\n",
       "      <td>0</td>\n",
       "      <td>0</td>\n",
       "      <td>0</td>\n",
       "      <td>1</td>\n",
       "    </tr>\n",
       "    <tr>\n",
       "      <th>9101</th>\n",
       "      <td>1587</td>\n",
       "      <td>10</td>\n",
       "      <td>0</td>\n",
       "      <td>1</td>\n",
       "      <td>0</td>\n",
       "      <td>0</td>\n",
       "      <td>0</td>\n",
       "    </tr>\n",
       "    <tr>\n",
       "      <th>9102</th>\n",
       "      <td>1587</td>\n",
       "      <td>20</td>\n",
       "      <td>0</td>\n",
       "      <td>0</td>\n",
       "      <td>0</td>\n",
       "      <td>1</td>\n",
       "      <td>0</td>\n",
       "    </tr>\n",
       "    <tr>\n",
       "      <th>9103</th>\n",
       "      <td>1587</td>\n",
       "      <td>27</td>\n",
       "      <td>0</td>\n",
       "      <td>0</td>\n",
       "      <td>0</td>\n",
       "      <td>0</td>\n",
       "      <td>1</td>\n",
       "    </tr>\n",
       "  </tbody>\n",
       "</table>\n",
       "</div>"
      ],
      "text/plain": [
       "      user_id  product_id  comment  like  purchase  share  view\n",
       "9099     1586          26        0     0         1      0     1\n",
       "9100     1587           4        0     0         0      0     1\n",
       "9101     1587          10        0     1         0      0     0\n",
       "9102     1587          20        0     0         0      1     0\n",
       "9103     1587          27        0     0         0      0     1"
      ]
     },
     "execution_count": 46,
     "metadata": {},
     "output_type": "execute_result"
    }
   ],
   "source": [
    "df_in.tail()"
   ]
  },
  {
   "cell_type": "code",
   "execution_count": 15,
   "id": "58fc4b4d-5782-4408-9f15-44a19787af4e",
   "metadata": {},
   "outputs": [],
   "source": [
    "from scipy.sparse import csr_matrix\n",
    "from sklearn.decomposition import TruncatedSVD"
   ]
  },
  {
   "cell_type": "code",
   "execution_count": 16,
   "id": "7dd7ac08-17d0-4386-a1fc-2db4d1816cf6",
   "metadata": {},
   "outputs": [],
   "source": [
    "#Create a user interaction matrix\n",
    "interaction_matrix = df_in.pivot(index = 'user_id', columns = 'product_id', values='purchase').fillna(0)"
   ]
  },
  {
   "cell_type": "code",
   "execution_count": 17,
   "id": "80e83b2b-e553-4135-b3be-de391b7028c0",
   "metadata": {},
   "outputs": [],
   "source": [
    "#convert to sparse matrix\n",
    "sparse_matrix = csr_matrix(interaction_matrix.values)"
   ]
  },
  {
   "cell_type": "code",
   "execution_count": 18,
   "id": "b22d83c1-9504-491a-b97f-72a46bbf443d",
   "metadata": {},
   "outputs": [],
   "source": [
    "# Apply Singular Value Decomposition (SVD)\n",
    "svd = TruncatedSVD(n_components=27)  # Reduce dimensionality to 50 latent factors\n",
    "user_factors = svd.fit_transform(sparse_matrix)\n",
    "product_factors = svd.components_.T"
   ]
  },
  {
   "cell_type": "code",
   "execution_count": 19,
   "id": "a1c2665f-4bd7-4ebd-9ca0-d795e1fd4c04",
   "metadata": {},
   "outputs": [],
   "source": [
    "def predict_ratings(user_id):\n",
    "    if user_id not in interaction_matrix.index:\n",
    "        return pd.DataFrame(columns=['product_id', 'product_name', 'category', 'price'])\n",
    "    \n",
    "    user_index = interaction_matrix.index.get_loc(user_id)\n",
    "    user_ratings = np.dot(user_factors[user_index], product_factors.T)\n",
    "    recommendations = sorted(enumerate(user_ratings), key=lambda x: x[1], reverse=True)\n",
    "    recommended_products = products_df.iloc[[i[0] for i in recommendations[:10]]]\n",
    "    return recommended_products[['product_id', 'product_name', 'category', 'price']].reset_index(drop=True)"
   ]
  },
  {
   "cell_type": "code",
   "execution_count": 47,
   "id": "d73a8a50-97cf-43e6-9357-8a6ab8ed473d",
   "metadata": {},
   "outputs": [
    {
     "name": "stdout",
     "output_type": "stream",
     "text": [
      "Recommended products for User 9099: Empty DataFrame\n",
      "Columns: [product_id, product_name, category, price]\n",
      "Index: []\n"
     ]
    }
   ],
   "source": [
    "# Example Recommendation\n",
    "example_user = 9099\n",
    "recommended_products = predict_ratings(example_user)\n",
    "print(f\"Recommended products for User {example_user}: {recommended_products}\")"
   ]
  },
  {
   "cell_type": "code",
   "execution_count": 21,
   "id": "157f9d87-f40c-4a92-ab9c-865157e4a896",
   "metadata": {},
   "outputs": [],
   "source": [
    "from sklearn.feature_extraction.text import TfidfVectorizer\n",
    "from sklearn.metrics.pairwise import cosine_similarity"
   ]
  },
  {
   "cell_type": "code",
   "execution_count": 22,
   "id": "52441d0b-96ed-4e87-bb5a-4915988a1bbc",
   "metadata": {},
   "outputs": [],
   "source": [
    "# Use TF-IDF for Text-Based Similarity\n",
    "vectorizer = TfidfVectorizer(stop_words='english')\n",
    "product_desc_matrix = vectorizer.fit_transform(df_p['description'].fillna(\"\"))"
   ]
  },
  {
   "cell_type": "code",
   "execution_count": 23,
   "id": "42577b3d-c46e-45d1-90c2-9c956068c702",
   "metadata": {},
   "outputs": [],
   "source": [
    "# Compute Similarity Matrix\n",
    "similarity_matrix = cosine_similarity(product_desc_matrix)"
   ]
  },
  {
   "cell_type": "code",
   "execution_count": 24,
   "id": "83a2c70c-a0bb-4628-a4cd-c735b6ccd401",
   "metadata": {},
   "outputs": [],
   "source": [
    "def recommend_similar_products(product_id, top_n=5):\n",
    "    product_index_list = products_df.index[products_df['product_id'] == product_id].tolist()\n",
    "    if not product_index_list:\n",
    "        return pd.DataFrame(columns=['product_id', 'product_name', 'category', 'price'])\n",
    "    product_index = product_index_list[0]\n",
    "    similarity_scores = sorted(enumerate(similarity_matrix[product_index]), key=lambda x: x[1], reverse=True)\n",
    "    similar_products = products_df.iloc[[i[0] for i in similarity_scores[1:top_n+1]]]\n",
    "    return similar_products[['product_id', 'product_name', 'category', 'price']].reset_index(drop=True)"
   ]
  },
  {
   "cell_type": "code",
   "execution_count": 25,
   "id": "185d056e-b46d-4c9c-88fd-e35341e9dc39",
   "metadata": {},
   "outputs": [
    {
     "name": "stdout",
     "output_type": "stream",
     "text": [
      "Products similar to 1:    product_id   product_name category  price\n",
      "0           2     Cost Month    Books  516.9\n",
      "1           3    Other These  Fashion  516.9\n",
      "2           4    Fear Better   Beauty  516.9\n",
      "3           5     Show Force   Sports  516.9\n",
      "4           6  Season Method  Fashion  516.9\n"
     ]
    }
   ],
   "source": [
    "# Example Recommendation\n",
    "example_product = df_p['product_id'].iloc[0]\n",
    "similar_products = recommend_similar_products(example_product)\n",
    "print(f\"Products similar to {example_product}: {similar_products}\")"
   ]
  },
  {
   "cell_type": "code",
   "execution_count": 26,
   "id": "c27e5812-6201-4fef-8aaf-40404b645ae4",
   "metadata": {},
   "outputs": [],
   "source": [
    "# Hybrid Recommendation System\n",
    "def hybrid_recommendation(user_id, alpha=0.5, top_n=10):\n",
    "    collab_recs = predict_ratings(user_id)\n",
    "    if isinstance(collab_recs, list) or collab_recs.empty:\n",
    "        return pd.DataFrame(columns=['product_id', 'product_name', 'category', 'price'])\n",
    "    \n",
    "    collab_product_ids = collab_recs['product_id'].tolist()\n",
    "    hybrid_scores = {}\n",
    "    for product_id in collab_product_ids:\n",
    "        similar_products = recommend_similar_products(product_id, top_n=3)\n",
    "        for similar_product_id in similar_products['product_id'].tolist():\n",
    "            hybrid_scores[similar_product_id] = hybrid_scores.get(similar_product_id, 0) + alpha\n",
    "    \n",
    "    for i, product_id in enumerate(collab_product_ids):\n",
    "        hybrid_scores[product_id] = hybrid_scores.get(product_id, 0) + (1 - alpha) * (top_n - i)\n",
    "    \n",
    "    sorted_hybrid = sorted(hybrid_scores.items(), key=lambda x: x[1], reverse=True)\n",
    "    recommended_product_ids = [product[0] for product in sorted_hybrid[:top_n]]\n",
    "    return products_df[products_df['product_id'].isin(recommended_product_ids)][['product_id', 'product_name', 'category', 'price']].reset_index(drop=True)"
   ]
  },
  {
   "cell_type": "code",
   "execution_count": 50,
   "id": "6799b109-a5dc-4dbe-981f-51c737c4ece4",
   "metadata": {},
   "outputs": [
    {
     "name": "stdout",
     "output_type": "stream",
     "text": [
      "Hybrid recommendations for User 24:\n",
      "   product_id      product_name category  price\n",
      "0           1       Us Marriage   Beauty  516.9\n",
      "1           2        Cost Month    Books  516.9\n",
      "2           3       Other These  Fashion  516.9\n",
      "3           4       Fear Better   Beauty  516.9\n",
      "4           5        Show Force   Sports  516.9\n",
      "5           6     Season Method  Fashion  516.9\n",
      "6           7          This New   Beauty  516.9\n",
      "7           8  Scientist Father     Home  516.9\n",
      "8           9      Appear Whose   Beauty  516.9\n",
      "9          15        First Fear    Books  516.9\n"
     ]
    }
   ],
   "source": [
    "# Example Hybrid Recommendation\n",
    "example_user = 24\n",
    "hybrid_recs = hybrid_recommendation(example_user)\n",
    "print(f\"Hybrid recommendations for User {example_user}:\")\n",
    "print(hybrid_recs)"
   ]
  },
  {
   "cell_type": "code",
   "execution_count": 28,
   "id": "7da6ee4e-4b78-40e6-a54d-820a27479628",
   "metadata": {},
   "outputs": [],
   "source": [
    "# Evaluation Metrics\n",
    "def precision_at_k(recommended, relevant, k=10):\n",
    "    recommended_at_k = recommended[:k]\n",
    "    relevant_set = set(relevant)\n",
    "    return len(set(recommended_at_k) & relevant_set) / k\n",
    "\n",
    "def recall_at_k(recommended, relevant, k=10):\n",
    "    recommended_at_k = recommended[:k]\n",
    "    relevant_set = set(relevant)\n",
    "    return len(set(recommended_at_k) & relevant_set) / len(relevant) if relevant else 0\n",
    "\n",
    "def ndcg_at_k(recommended, relevant, k=10):\n",
    "    def dcg(scores):\n",
    "        return sum(rel / np.log2(idx + 2) for idx, rel in enumerate(scores))\n",
    "    \n",
    "    recommended_at_k = recommended[:k]\n",
    "    relevant_set = set(relevant)\n",
    "    relevance_scores = [1 if item in relevant_set else 0 for item in recommended_at_k]\n",
    "    idcg_scores = sorted(relevance_scores, reverse=True)\n",
    "    \n",
    "    return dcg(relevance_scores) / dcg(idcg_scores) if dcg(idcg_scores) > 0 else 0"
   ]
  },
  {
   "cell_type": "code",
   "execution_count": 45,
   "id": "0f682121-3d7a-4073-bedd-e12062694d54",
   "metadata": {},
   "outputs": [
    {
     "name": "stdout",
     "output_type": "stream",
     "text": [
      "Evaluation for User 201:\n",
      "Precision@10: 0.0000\n",
      "Recall@10: 0.0000\n",
      "NDCG@10: 0.0000\n"
     ]
    }
   ],
   "source": [
    "# Example Evaluation\n",
    "example_user = 201\n",
    "recommended_products = hybrid_recommendation(example_user)['product_id'].tolist()\n",
    "actual_purchases = interactions_df[(df_i['user_id'] == example_user) & (df_i['purchase'] == 1)]['product_id'].tolist()\n",
    "\n",
    "precision = precision_at_k(recommended_products, actual_purchases)\n",
    "recall = recall_at_k(recommended_products, actual_purchases)\n",
    "ndcg = ndcg_at_k(recommended_products, actual_purchases)\n",
    "\n",
    "print(f\"Evaluation for User {example_user}:\")\n",
    "print(f\"Precision@10: {precision:.4f}\")\n",
    "print(f\"Recall@10: {recall:.4f}\")\n",
    "print(f\"NDCG@10: {ndcg:.4f}\")"
   ]
  },
  {
   "cell_type": "code",
   "execution_count": 34,
   "id": "92ae6d3e-f879-4f19-85d0-5aad660fdcd3",
   "metadata": {},
   "outputs": [
    {
     "name": "stdout",
     "output_type": "stream",
     "text": [
      "Recommended Products: [1, 2, 3, 8, 9, 10, 11, 15, 20, 22]\n",
      "Actual Purchases: [11, 2]\n"
     ]
    }
   ],
   "source": [
    "print(\"Recommended Products:\", recommended_products)\n",
    "print(\"Actual Purchases:\", actual_purchases)"
   ]
  },
  {
   "cell_type": "code",
   "execution_count": 37,
   "id": "af25071d-1792-4cdc-8923-cd36d90ab760",
   "metadata": {},
   "outputs": [
    {
     "name": "stdout",
     "output_type": "stream",
     "text": [
      "Average Precision@10: 0.1152\n",
      "Average Recall@10: 0.9989\n",
      "Average NDCG@10: 0.3870\n"
     ]
    }
   ],
   "source": [
    "def evaluate_recommendation_system(users, top_n=10):\n",
    "    precision_scores = []\n",
    "    recall_scores = []\n",
    "    ndcg_scores = []\n",
    "\n",
    "    for user_id in users:\n",
    "        recommended_products = hybrid_recommendation(user_id, top_n=top_n)['product_id'].tolist()\n",
    "        actual_purchases = df_i[(df_i['user_id'] == user_id) & \n",
    "                                           (df_i['purchase'] == 1)]['product_id'].tolist()\n",
    "\n",
    "        if not actual_purchases:  # Skip users with no purchases\n",
    "            continue\n",
    "\n",
    "        # Compute Precision@K\n",
    "        hits = sum(1 for product in recommended_products if product in actual_purchases)\n",
    "        precision_at_k = hits / top_n\n",
    "        precision_scores.append(precision_at_k)\n",
    "\n",
    "        # Compute Recall@K\n",
    "        recall_at_k = hits / len(actual_purchases)\n",
    "        recall_scores.append(recall_at_k)\n",
    "\n",
    "        # Compute NDCG@K\n",
    "        dcg = sum(1 / np.log2(i + 2) for i, product in enumerate(recommended_products) if product in actual_purchases)\n",
    "        idcg = sum(1 / np.log2(i + 2) for i in range(min(len(actual_purchases), top_n)))\n",
    "        ndcg_at_k = dcg / idcg if idcg > 0 else 0\n",
    "        ndcg_scores.append(ndcg_at_k)\n",
    "\n",
    "    # Compute averages\n",
    "    avg_precision = np.mean(precision_scores) if precision_scores else 0\n",
    "    avg_recall = np.mean(recall_scores) if recall_scores else 0\n",
    "    avg_ndcg = np.mean(ndcg_scores) if ndcg_scores else 0\n",
    "\n",
    "    print(f\"Average Precision@{top_n}: {avg_precision:.4f}\")\n",
    "    print(f\"Average Recall@{top_n}: {avg_recall:.4f}\")\n",
    "    print(f\"Average NDCG@{top_n}: {avg_ndcg:.4f}\")\n",
    "\n",
    "# Get a list of users who have made purchases\n",
    "purchasing_users = df_i[df_i['purchase'] == 1]['user_id'].unique()\n",
    "\n",
    "# Evaluate on multiple users\n",
    "evaluate_recommendation_system(purchasing_users, top_n=10)\n"
   ]
  },
  {
   "cell_type": "code",
   "execution_count": null,
   "id": "7e2dd0f3-bd93-48e3-bc94-db611b7e6104",
   "metadata": {},
   "outputs": [],
   "source": []
  }
 ],
 "metadata": {
  "kernelspec": {
   "display_name": "Python 3 (ipykernel)",
   "language": "python",
   "name": "python3"
  },
  "language_info": {
   "codemirror_mode": {
    "name": "ipython",
    "version": 3
   },
   "file_extension": ".py",
   "mimetype": "text/x-python",
   "name": "python",
   "nbconvert_exporter": "python",
   "pygments_lexer": "ipython3",
   "version": "3.12.4"
  }
 },
 "nbformat": 4,
 "nbformat_minor": 5
}
